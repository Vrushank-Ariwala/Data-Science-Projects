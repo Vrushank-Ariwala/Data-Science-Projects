{
 "cells": [
  {
   "cell_type": "markdown",
   "metadata": {},
   "source": [
    "# Import Libraries"
   ]
  },
  {
   "cell_type": "code",
   "execution_count": 7,
   "metadata": {},
   "outputs": [],
   "source": [
    "import numpy as np\n",
    "import pandas as pd"
   ]
  },
  {
   "cell_type": "markdown",
   "metadata": {},
   "source": [
    "# Read and Explore Data"
   ]
  },
  {
   "cell_type": "code",
   "execution_count": 8,
   "metadata": {},
   "outputs": [
    {
     "data": {
      "text/html": [
       "<div>\n",
       "<style scoped>\n",
       "    .dataframe tbody tr th:only-of-type {\n",
       "        vertical-align: middle;\n",
       "    }\n",
       "\n",
       "    .dataframe tbody tr th {\n",
       "        vertical-align: top;\n",
       "    }\n",
       "\n",
       "    .dataframe thead th {\n",
       "        text-align: right;\n",
       "    }\n",
       "</style>\n",
       "<table border=\"1\" class=\"dataframe\">\n",
       "  <thead>\n",
       "    <tr style=\"text-align: right;\">\n",
       "      <th></th>\n",
       "      <th>name</th>\n",
       "      <th>company</th>\n",
       "      <th>ideal_for</th>\n",
       "      <th>category</th>\n",
       "      <th>rating</th>\n",
       "      <th>ratings_count</th>\n",
       "      <th>reviews_count</th>\n",
       "      <th>actual_price</th>\n",
       "      <th>discounted_price</th>\n",
       "      <th>discount_percentage</th>\n",
       "    </tr>\n",
       "  </thead>\n",
       "  <tbody>\n",
       "    <tr>\n",
       "      <th>0</th>\n",
       "      <td>Men Printed Round Neck Polyester Green T-Shirt</td>\n",
       "      <td>VeBNoR</td>\n",
       "      <td>men</td>\n",
       "      <td>tshirts</td>\n",
       "      <td>3.9</td>\n",
       "      <td>28,072</td>\n",
       "      <td>1,686</td>\n",
       "      <td>₹999</td>\n",
       "      <td>₹259</td>\n",
       "      <td>74%</td>\n",
       "    </tr>\n",
       "    <tr>\n",
       "      <th>1</th>\n",
       "      <td>Pack of 2 Men Printed Round Neck Polyester Pin...</td>\n",
       "      <td>KAJARU</td>\n",
       "      <td>men</td>\n",
       "      <td>tshirts</td>\n",
       "      <td>3.8</td>\n",
       "      <td>88,910</td>\n",
       "      <td>4,717</td>\n",
       "      <td>₹1,899</td>\n",
       "      <td>₹359</td>\n",
       "      <td>81%</td>\n",
       "    </tr>\n",
       "    <tr>\n",
       "      <th>2</th>\n",
       "      <td>Men Solid Polo Neck Cotton Blend Black T-Shirt</td>\n",
       "      <td>Allen Solly</td>\n",
       "      <td>men</td>\n",
       "      <td>tshirts</td>\n",
       "      <td>4.3</td>\n",
       "      <td>21,430</td>\n",
       "      <td>1,144</td>\n",
       "      <td>₹1,099</td>\n",
       "      <td>₹736</td>\n",
       "      <td>33%</td>\n",
       "    </tr>\n",
       "    <tr>\n",
       "      <th>3</th>\n",
       "      <td>Men Printed Round Neck Polyester White, Black ...</td>\n",
       "      <td>sti</td>\n",
       "      <td>men</td>\n",
       "      <td>tshirts</td>\n",
       "      <td>3.9</td>\n",
       "      <td>72,975</td>\n",
       "      <td>5,613</td>\n",
       "      <td>₹999</td>\n",
       "      <td>₹191</td>\n",
       "      <td>80%</td>\n",
       "    </tr>\n",
       "    <tr>\n",
       "      <th>4</th>\n",
       "      <td>Pack of 4 Men Solid Round Neck Polyester Black...</td>\n",
       "      <td>VeBNoR</td>\n",
       "      <td>men</td>\n",
       "      <td>tshirts</td>\n",
       "      <td>3.9</td>\n",
       "      <td>4,335</td>\n",
       "      <td>164</td>\n",
       "      <td>₹999</td>\n",
       "      <td>₹399</td>\n",
       "      <td>60%</td>\n",
       "    </tr>\n",
       "  </tbody>\n",
       "</table>\n",
       "</div>"
      ],
      "text/plain": [
       "                                                name       company ideal_for  \\\n",
       "0     Men Printed Round Neck Polyester Green T-Shirt       VeBNoR        men   \n",
       "1  Pack of 2 Men Printed Round Neck Polyester Pin...       KAJARU        men   \n",
       "2     Men Solid Polo Neck Cotton Blend Black T-Shirt  Allen Solly        men   \n",
       "3  Men Printed Round Neck Polyester White, Black ...          sti        men   \n",
       "4  Pack of 4 Men Solid Round Neck Polyester Black...       VeBNoR        men   \n",
       "\n",
       "  category rating ratings_count reviews_count actual_price discounted_price  \\\n",
       "0  tshirts    3.9        28,072         1,686         ₹999             ₹259   \n",
       "1  tshirts    3.8        88,910         4,717       ₹1,899             ₹359   \n",
       "2  tshirts    4.3        21,430         1,144       ₹1,099             ₹736   \n",
       "3  tshirts    3.9        72,975         5,613         ₹999             ₹191   \n",
       "4  tshirts    3.9         4,335           164         ₹999             ₹399   \n",
       "\n",
       "  discount_percentage  \n",
       "0                 74%  \n",
       "1                 81%  \n",
       "2                 33%  \n",
       "3                 80%  \n",
       "4                 60%  "
      ]
     },
     "execution_count": 8,
     "metadata": {},
     "output_type": "execute_result"
    }
   ],
   "source": [
    "df = pd.read_csv('flipkart_clothing_data.csv')\n",
    "df.head()"
   ]
  },
  {
   "cell_type": "code",
   "execution_count": 9,
   "metadata": {},
   "outputs": [
    {
     "data": {
      "text/plain": [
       "Index(['name', 'company', 'ideal_for', 'category', 'rating', 'ratings_count',\n",
       "       'reviews_count', 'actual_price', 'discounted_price',\n",
       "       'discount_percentage'],\n",
       "      dtype='object')"
      ]
     },
     "execution_count": 9,
     "metadata": {},
     "output_type": "execute_result"
    }
   ],
   "source": [
    "df.columns"
   ]
  },
  {
   "cell_type": "code",
   "execution_count": 10,
   "metadata": {},
   "outputs": [
    {
     "data": {
      "text/plain": [
       "(2028, 10)"
      ]
     },
     "execution_count": 10,
     "metadata": {},
     "output_type": "execute_result"
    }
   ],
   "source": [
    "df.shape"
   ]
  },
  {
   "cell_type": "code",
   "execution_count": 11,
   "metadata": {},
   "outputs": [
    {
     "data": {
      "text/plain": [
       "name                   object\n",
       "company                object\n",
       "ideal_for              object\n",
       "category               object\n",
       "rating                 object\n",
       "ratings_count          object\n",
       "reviews_count          object\n",
       "actual_price           object\n",
       "discounted_price       object\n",
       "discount_percentage    object\n",
       "dtype: object"
      ]
     },
     "execution_count": 11,
     "metadata": {},
     "output_type": "execute_result"
    }
   ],
   "source": [
    "df.dtypes"
   ]
  },
  {
   "cell_type": "code",
   "execution_count": 12,
   "metadata": {},
   "outputs": [
    {
     "data": {
      "text/plain": [
       "name                   0\n",
       "company                0\n",
       "ideal_for              0\n",
       "category               0\n",
       "rating                 0\n",
       "ratings_count          0\n",
       "reviews_count          0\n",
       "actual_price           0\n",
       "discounted_price       0\n",
       "discount_percentage    0\n",
       "dtype: int64"
      ]
     },
     "execution_count": 12,
     "metadata": {},
     "output_type": "execute_result"
    }
   ],
   "source": [
    "df.isnull().sum()"
   ]
  },
  {
   "cell_type": "code",
   "execution_count": 13,
   "metadata": {},
   "outputs": [
    {
     "name": "stdout",
     "output_type": "stream",
     "text": [
      "name 3\n",
      "company 3\n",
      "ideal_for 0\n",
      "category 0\n",
      "rating 240\n",
      "ratings_count 216\n",
      "reviews_count 216\n",
      "actual_price 50\n",
      "discounted_price 8\n",
      "discount_percentage 55\n"
     ]
    }
   ],
   "source": [
    "for col in df.columns:\n",
    "    print(col, len(df[df[col]=='Unknown']))"
   ]
  },
  {
   "cell_type": "markdown",
   "metadata": {},
   "source": [
    "# Pre-Processing"
   ]
  },
  {
   "cell_type": "code",
   "execution_count": 14,
   "metadata": {},
   "outputs": [
    {
     "data": {
      "text/html": [
       "<div>\n",
       "<style scoped>\n",
       "    .dataframe tbody tr th:only-of-type {\n",
       "        vertical-align: middle;\n",
       "    }\n",
       "\n",
       "    .dataframe tbody tr th {\n",
       "        vertical-align: top;\n",
       "    }\n",
       "\n",
       "    .dataframe thead th {\n",
       "        text-align: right;\n",
       "    }\n",
       "</style>\n",
       "<table border=\"1\" class=\"dataframe\">\n",
       "  <thead>\n",
       "    <tr style=\"text-align: right;\">\n",
       "      <th></th>\n",
       "      <th>name</th>\n",
       "      <th>company</th>\n",
       "      <th>ideal_for</th>\n",
       "      <th>category</th>\n",
       "      <th>rating</th>\n",
       "      <th>ratings_count</th>\n",
       "      <th>reviews_count</th>\n",
       "      <th>actual_price</th>\n",
       "      <th>discounted_price</th>\n",
       "      <th>discount_percentage</th>\n",
       "    </tr>\n",
       "  </thead>\n",
       "  <tbody>\n",
       "    <tr>\n",
       "      <th>843</th>\n",
       "      <td>Unknown</td>\n",
       "      <td>Unknown</td>\n",
       "      <td>men</td>\n",
       "      <td>sweatshirts</td>\n",
       "      <td>Unknown</td>\n",
       "      <td>Unknown</td>\n",
       "      <td>Unknown</td>\n",
       "      <td>Unknown</td>\n",
       "      <td>Unknown</td>\n",
       "      <td>Unknown</td>\n",
       "    </tr>\n",
       "    <tr>\n",
       "      <th>1264</th>\n",
       "      <td>Unknown</td>\n",
       "      <td>Unknown</td>\n",
       "      <td>women</td>\n",
       "      <td>shoes</td>\n",
       "      <td>Unknown</td>\n",
       "      <td>Unknown</td>\n",
       "      <td>Unknown</td>\n",
       "      <td>Unknown</td>\n",
       "      <td>Unknown</td>\n",
       "      <td>Unknown</td>\n",
       "    </tr>\n",
       "    <tr>\n",
       "      <th>1557</th>\n",
       "      <td>Unknown</td>\n",
       "      <td>Unknown</td>\n",
       "      <td>women</td>\n",
       "      <td>trousers</td>\n",
       "      <td>Unknown</td>\n",
       "      <td>Unknown</td>\n",
       "      <td>Unknown</td>\n",
       "      <td>Unknown</td>\n",
       "      <td>Unknown</td>\n",
       "      <td>Unknown</td>\n",
       "    </tr>\n",
       "  </tbody>\n",
       "</table>\n",
       "</div>"
      ],
      "text/plain": [
       "         name  company ideal_for     category   rating ratings_count  \\\n",
       "843   Unknown  Unknown       men  sweatshirts  Unknown       Unknown   \n",
       "1264  Unknown  Unknown     women        shoes  Unknown       Unknown   \n",
       "1557  Unknown  Unknown     women     trousers  Unknown       Unknown   \n",
       "\n",
       "     reviews_count actual_price discounted_price discount_percentage  \n",
       "843        Unknown      Unknown          Unknown             Unknown  \n",
       "1264       Unknown      Unknown          Unknown             Unknown  \n",
       "1557       Unknown      Unknown          Unknown             Unknown  "
      ]
     },
     "execution_count": 14,
     "metadata": {},
     "output_type": "execute_result"
    }
   ],
   "source": [
    "df[df['name']=='Unknown']"
   ]
  },
  {
   "cell_type": "code",
   "execution_count": 15,
   "metadata": {},
   "outputs": [],
   "source": [
    "df = df[df['name']!='Unknown']"
   ]
  },
  {
   "cell_type": "code",
   "execution_count": 16,
   "metadata": {},
   "outputs": [
    {
     "data": {
      "text/plain": [
       "24"
      ]
     },
     "execution_count": 16,
     "metadata": {},
     "output_type": "execute_result"
    }
   ],
   "source": [
    "len(df[(df['rating']=='Unknown') & (df['ratings_count']!='Unknown') & (df['reviews_count']!='Unknown')])"
   ]
  },
  {
   "cell_type": "code",
   "execution_count": 17,
   "metadata": {},
   "outputs": [],
   "source": [
    "df = df[~((df['rating']=='Unknown') & (df['ratings_count']!='Unknown') & (df['reviews_count']!='Unknown'))]"
   ]
  },
  {
   "cell_type": "code",
   "execution_count": 18,
   "metadata": {},
   "outputs": [],
   "source": [
    "# cols = ['rating', 'ratings_count', 'reviews_count']\n",
    "\n",
    "# for col in cols:\n",
    "#     df[col] = df[col].apply(lambda x: x.replace('Unknown', 'null'))"
   ]
  },
  {
   "cell_type": "code",
   "execution_count": 19,
   "metadata": {},
   "outputs": [
    {
     "name": "stdout",
     "output_type": "stream",
     "text": [
      "name 0\n",
      "company 0\n",
      "ideal_for 0\n",
      "category 0\n",
      "rating 213\n",
      "ratings_count 213\n",
      "reviews_count 213\n",
      "actual_price 42\n",
      "discounted_price 0\n",
      "discount_percentage 47\n"
     ]
    }
   ],
   "source": [
    "for col in df.columns:\n",
    "    print(col, len(df[df[col]=='Unknown']))"
   ]
  },
  {
   "cell_type": "code",
   "execution_count": 20,
   "metadata": {},
   "outputs": [
    {
     "data": {
      "text/plain": [
       "(2001, 10)"
      ]
     },
     "execution_count": 20,
     "metadata": {},
     "output_type": "execute_result"
    }
   ],
   "source": [
    "df.shape"
   ]
  },
  {
   "cell_type": "code",
   "execution_count": 21,
   "metadata": {},
   "outputs": [
    {
     "data": {
      "text/plain": [
       "42"
      ]
     },
     "execution_count": 21,
     "metadata": {},
     "output_type": "execute_result"
    }
   ],
   "source": [
    "temp_df = df[(df['actual_price']=='Unknown') & (df['discount_percentage']=='Unknown')]\n",
    "len(temp_df)"
   ]
  },
  {
   "cell_type": "code",
   "execution_count": 22,
   "metadata": {},
   "outputs": [],
   "source": [
    "for index in temp_df.index:\n",
    "    df.loc[index, 'discount_percentage'] = '0'\n",
    "    df.loc[index, 'actual_price'] = df.loc[index, 'discounted_price']"
   ]
  },
  {
   "cell_type": "code",
   "execution_count": 23,
   "metadata": {},
   "outputs": [
    {
     "name": "stdout",
     "output_type": "stream",
     "text": [
      "name 0\n",
      "company 0\n",
      "ideal_for 0\n",
      "category 0\n",
      "rating 213\n",
      "ratings_count 213\n",
      "reviews_count 213\n",
      "actual_price 0\n",
      "discounted_price 0\n",
      "discount_percentage 5\n"
     ]
    }
   ],
   "source": [
    "for col in df.columns:\n",
    "    print(col, len(df[df[col]=='Unknown']))"
   ]
  },
  {
   "cell_type": "code",
   "execution_count": 24,
   "metadata": {},
   "outputs": [
    {
     "data": {
      "text/html": [
       "<div>\n",
       "<style scoped>\n",
       "    .dataframe tbody tr th:only-of-type {\n",
       "        vertical-align: middle;\n",
       "    }\n",
       "\n",
       "    .dataframe tbody tr th {\n",
       "        vertical-align: top;\n",
       "    }\n",
       "\n",
       "    .dataframe thead th {\n",
       "        text-align: right;\n",
       "    }\n",
       "</style>\n",
       "<table border=\"1\" class=\"dataframe\">\n",
       "  <thead>\n",
       "    <tr style=\"text-align: right;\">\n",
       "      <th></th>\n",
       "      <th>name</th>\n",
       "      <th>company</th>\n",
       "      <th>ideal_for</th>\n",
       "      <th>category</th>\n",
       "      <th>rating</th>\n",
       "      <th>ratings_count</th>\n",
       "      <th>reviews_count</th>\n",
       "      <th>actual_price</th>\n",
       "      <th>discounted_price</th>\n",
       "      <th>discount_percentage</th>\n",
       "    </tr>\n",
       "  </thead>\n",
       "  <tbody>\n",
       "    <tr>\n",
       "      <th>631</th>\n",
       "      <td>Solid Men Black Sports Shorts</td>\n",
       "      <td>TECHNOSPORT</td>\n",
       "      <td>men</td>\n",
       "      <td>shorts</td>\n",
       "      <td>4</td>\n",
       "      <td>716</td>\n",
       "      <td>31</td>\n",
       "      <td>₹449</td>\n",
       "      <td>₹448</td>\n",
       "      <td>Unknown</td>\n",
       "    </tr>\n",
       "    <tr>\n",
       "      <th>796</th>\n",
       "      <td>Men Solid Black Track Pants</td>\n",
       "      <td>TECHNOSPORT</td>\n",
       "      <td>men</td>\n",
       "      <td>trackpants</td>\n",
       "      <td>4.2</td>\n",
       "      <td>968</td>\n",
       "      <td>65</td>\n",
       "      <td>₹749</td>\n",
       "      <td>₹748</td>\n",
       "      <td>Unknown</td>\n",
       "    </tr>\n",
       "    <tr>\n",
       "      <th>811</th>\n",
       "      <td>Men Self Design Black Track Pants</td>\n",
       "      <td>TECHNOSPORT</td>\n",
       "      <td>men</td>\n",
       "      <td>trackpants</td>\n",
       "      <td>3.9</td>\n",
       "      <td>1,282</td>\n",
       "      <td>62</td>\n",
       "      <td>₹549</td>\n",
       "      <td>₹548</td>\n",
       "      <td>Unknown</td>\n",
       "    </tr>\n",
       "    <tr>\n",
       "      <th>1157</th>\n",
       "      <td>Bellies For Women  (Brown , 4)</td>\n",
       "      <td>Bata</td>\n",
       "      <td>women</td>\n",
       "      <td>shoes</td>\n",
       "      <td>4.1</td>\n",
       "      <td>5,098</td>\n",
       "      <td>448</td>\n",
       "      <td>₹299</td>\n",
       "      <td>₹298</td>\n",
       "      <td>Unknown</td>\n",
       "    </tr>\n",
       "    <tr>\n",
       "      <th>1482</th>\n",
       "      <td>Women Straight Fit Black Viscose Rayon Trousers</td>\n",
       "      <td>Lervise</td>\n",
       "      <td>women</td>\n",
       "      <td>trousers</td>\n",
       "      <td>Unknown</td>\n",
       "      <td>Unknown</td>\n",
       "      <td>Unknown</td>\n",
       "      <td>₹300</td>\n",
       "      <td>₹299</td>\n",
       "      <td>Unknown</td>\n",
       "    </tr>\n",
       "  </tbody>\n",
       "</table>\n",
       "</div>"
      ],
      "text/plain": [
       "                                                 name       company ideal_for  \\\n",
       "631                     Solid Men Black Sports Shorts  TECHNOSPORT        men   \n",
       "796                       Men Solid Black Track Pants  TECHNOSPORT        men   \n",
       "811                 Men Self Design Black Track Pants  TECHNOSPORT        men   \n",
       "1157                   Bellies For Women  (Brown , 4)         Bata      women   \n",
       "1482  Women Straight Fit Black Viscose Rayon Trousers      Lervise      women   \n",
       "\n",
       "        category   rating ratings_count reviews_count actual_price  \\\n",
       "631       shorts        4           716            31         ₹449   \n",
       "796   trackpants      4.2           968            65         ₹749   \n",
       "811   trackpants      3.9         1,282            62         ₹549   \n",
       "1157       shoes      4.1         5,098           448         ₹299   \n",
       "1482    trousers  Unknown       Unknown       Unknown         ₹300   \n",
       "\n",
       "     discounted_price discount_percentage  \n",
       "631              ₹448             Unknown  \n",
       "796              ₹748             Unknown  \n",
       "811              ₹548             Unknown  \n",
       "1157             ₹298             Unknown  \n",
       "1482             ₹299             Unknown  "
      ]
     },
     "execution_count": 24,
     "metadata": {},
     "output_type": "execute_result"
    }
   ],
   "source": [
    "df[df['discount_percentage']=='Unknown']"
   ]
  },
  {
   "cell_type": "code",
   "execution_count": 25,
   "metadata": {},
   "outputs": [],
   "source": [
    "df['discount_percentage'] = df['discount_percentage'].replace('Unknown', '1%')"
   ]
  },
  {
   "cell_type": "code",
   "execution_count": 26,
   "metadata": {},
   "outputs": [
    {
     "name": "stdout",
     "output_type": "stream",
     "text": [
      "name 0\n",
      "company 0\n",
      "ideal_for 0\n",
      "category 0\n",
      "rating 213\n",
      "ratings_count 213\n",
      "reviews_count 213\n",
      "actual_price 0\n",
      "discounted_price 0\n",
      "discount_percentage 0\n"
     ]
    }
   ],
   "source": [
    "for col in df.columns:\n",
    "    print(col, len(df[df[col]=='Unknown']))"
   ]
  },
  {
   "cell_type": "code",
   "execution_count": 27,
   "metadata": {},
   "outputs": [
    {
     "data": {
      "text/html": [
       "<div>\n",
       "<style scoped>\n",
       "    .dataframe tbody tr th:only-of-type {\n",
       "        vertical-align: middle;\n",
       "    }\n",
       "\n",
       "    .dataframe tbody tr th {\n",
       "        vertical-align: top;\n",
       "    }\n",
       "\n",
       "    .dataframe thead th {\n",
       "        text-align: right;\n",
       "    }\n",
       "</style>\n",
       "<table border=\"1\" class=\"dataframe\">\n",
       "  <thead>\n",
       "    <tr style=\"text-align: right;\">\n",
       "      <th></th>\n",
       "      <th>name</th>\n",
       "      <th>company</th>\n",
       "      <th>ideal_for</th>\n",
       "      <th>category</th>\n",
       "      <th>rating</th>\n",
       "      <th>ratings_count</th>\n",
       "      <th>reviews_count</th>\n",
       "      <th>actual_price</th>\n",
       "      <th>discounted_price</th>\n",
       "      <th>discount_percentage</th>\n",
       "    </tr>\n",
       "  </thead>\n",
       "  <tbody>\n",
       "    <tr>\n",
       "      <th>0</th>\n",
       "      <td>Men Printed Round Neck Polyester Green T-Shirt</td>\n",
       "      <td>VeBNoR</td>\n",
       "      <td>men</td>\n",
       "      <td>tshirts</td>\n",
       "      <td>3.9</td>\n",
       "      <td>28,072</td>\n",
       "      <td>1,686</td>\n",
       "      <td>₹999</td>\n",
       "      <td>₹259</td>\n",
       "      <td>74%</td>\n",
       "    </tr>\n",
       "    <tr>\n",
       "      <th>1</th>\n",
       "      <td>Pack of 2 Men Printed Round Neck Polyester Pin...</td>\n",
       "      <td>KAJARU</td>\n",
       "      <td>men</td>\n",
       "      <td>tshirts</td>\n",
       "      <td>3.8</td>\n",
       "      <td>88,910</td>\n",
       "      <td>4,717</td>\n",
       "      <td>₹1,899</td>\n",
       "      <td>₹359</td>\n",
       "      <td>81%</td>\n",
       "    </tr>\n",
       "    <tr>\n",
       "      <th>2</th>\n",
       "      <td>Men Solid Polo Neck Cotton Blend Black T-Shirt</td>\n",
       "      <td>Allen Solly</td>\n",
       "      <td>men</td>\n",
       "      <td>tshirts</td>\n",
       "      <td>4.3</td>\n",
       "      <td>21,430</td>\n",
       "      <td>1,144</td>\n",
       "      <td>₹1,099</td>\n",
       "      <td>₹736</td>\n",
       "      <td>33%</td>\n",
       "    </tr>\n",
       "    <tr>\n",
       "      <th>3</th>\n",
       "      <td>Men Printed Round Neck Polyester White, Black ...</td>\n",
       "      <td>sti</td>\n",
       "      <td>men</td>\n",
       "      <td>tshirts</td>\n",
       "      <td>3.9</td>\n",
       "      <td>72,975</td>\n",
       "      <td>5,613</td>\n",
       "      <td>₹999</td>\n",
       "      <td>₹191</td>\n",
       "      <td>80%</td>\n",
       "    </tr>\n",
       "    <tr>\n",
       "      <th>4</th>\n",
       "      <td>Pack of 4 Men Solid Round Neck Polyester Black...</td>\n",
       "      <td>VeBNoR</td>\n",
       "      <td>men</td>\n",
       "      <td>tshirts</td>\n",
       "      <td>3.9</td>\n",
       "      <td>4,335</td>\n",
       "      <td>164</td>\n",
       "      <td>₹999</td>\n",
       "      <td>₹399</td>\n",
       "      <td>60%</td>\n",
       "    </tr>\n",
       "  </tbody>\n",
       "</table>\n",
       "</div>"
      ],
      "text/plain": [
       "                                                name       company ideal_for  \\\n",
       "0     Men Printed Round Neck Polyester Green T-Shirt       VeBNoR        men   \n",
       "1  Pack of 2 Men Printed Round Neck Polyester Pin...       KAJARU        men   \n",
       "2     Men Solid Polo Neck Cotton Blend Black T-Shirt  Allen Solly        men   \n",
       "3  Men Printed Round Neck Polyester White, Black ...          sti        men   \n",
       "4  Pack of 4 Men Solid Round Neck Polyester Black...       VeBNoR        men   \n",
       "\n",
       "  category rating ratings_count reviews_count actual_price discounted_price  \\\n",
       "0  tshirts    3.9        28,072         1,686         ₹999             ₹259   \n",
       "1  tshirts    3.8        88,910         4,717       ₹1,899             ₹359   \n",
       "2  tshirts    4.3        21,430         1,144       ₹1,099             ₹736   \n",
       "3  tshirts    3.9        72,975         5,613         ₹999             ₹191   \n",
       "4  tshirts    3.9         4,335           164         ₹999             ₹399   \n",
       "\n",
       "  discount_percentage  \n",
       "0                 74%  \n",
       "1                 81%  \n",
       "2                 33%  \n",
       "3                 80%  \n",
       "4                 60%  "
      ]
     },
     "execution_count": 27,
     "metadata": {},
     "output_type": "execute_result"
    }
   ],
   "source": [
    "df.head()"
   ]
  },
  {
   "cell_type": "code",
   "execution_count": 28,
   "metadata": {},
   "outputs": [],
   "source": [
    "df['ratings_count'] = df['ratings_count'].str.replace(',', '')\n",
    "df['reviews_count'] = df['reviews_count'].str.replace(',', '')"
   ]
  },
  {
   "cell_type": "code",
   "execution_count": 29,
   "metadata": {},
   "outputs": [],
   "source": [
    "df['rating'] = pd.to_numeric(df['rating'], errors='coerce')"
   ]
  },
  {
   "cell_type": "code",
   "execution_count": 30,
   "metadata": {},
   "outputs": [],
   "source": [
    "df['ratings_count'] = pd.to_numeric(df['ratings_count'], errors='coerce')\n",
    "df['reviews_count'] = pd.to_numeric(df['reviews_count'], errors='coerce')"
   ]
  },
  {
   "cell_type": "code",
   "execution_count": 31,
   "metadata": {},
   "outputs": [
    {
     "data": {
      "text/html": [
       "<div>\n",
       "<style scoped>\n",
       "    .dataframe tbody tr th:only-of-type {\n",
       "        vertical-align: middle;\n",
       "    }\n",
       "\n",
       "    .dataframe tbody tr th {\n",
       "        vertical-align: top;\n",
       "    }\n",
       "\n",
       "    .dataframe thead th {\n",
       "        text-align: right;\n",
       "    }\n",
       "</style>\n",
       "<table border=\"1\" class=\"dataframe\">\n",
       "  <thead>\n",
       "    <tr style=\"text-align: right;\">\n",
       "      <th></th>\n",
       "      <th>name</th>\n",
       "      <th>company</th>\n",
       "      <th>ideal_for</th>\n",
       "      <th>category</th>\n",
       "      <th>rating</th>\n",
       "      <th>ratings_count</th>\n",
       "      <th>reviews_count</th>\n",
       "      <th>actual_price</th>\n",
       "      <th>discounted_price</th>\n",
       "      <th>discount_percentage</th>\n",
       "    </tr>\n",
       "  </thead>\n",
       "  <tbody>\n",
       "    <tr>\n",
       "      <th>0</th>\n",
       "      <td>Men Printed Round Neck Polyester Green T-Shirt</td>\n",
       "      <td>VeBNoR</td>\n",
       "      <td>men</td>\n",
       "      <td>tshirts</td>\n",
       "      <td>3.9</td>\n",
       "      <td>28072.0</td>\n",
       "      <td>1686.0</td>\n",
       "      <td>₹999</td>\n",
       "      <td>₹259</td>\n",
       "      <td>74%</td>\n",
       "    </tr>\n",
       "    <tr>\n",
       "      <th>1</th>\n",
       "      <td>Pack of 2 Men Printed Round Neck Polyester Pin...</td>\n",
       "      <td>KAJARU</td>\n",
       "      <td>men</td>\n",
       "      <td>tshirts</td>\n",
       "      <td>3.8</td>\n",
       "      <td>88910.0</td>\n",
       "      <td>4717.0</td>\n",
       "      <td>₹1,899</td>\n",
       "      <td>₹359</td>\n",
       "      <td>81%</td>\n",
       "    </tr>\n",
       "    <tr>\n",
       "      <th>2</th>\n",
       "      <td>Men Solid Polo Neck Cotton Blend Black T-Shirt</td>\n",
       "      <td>Allen Solly</td>\n",
       "      <td>men</td>\n",
       "      <td>tshirts</td>\n",
       "      <td>4.3</td>\n",
       "      <td>21430.0</td>\n",
       "      <td>1144.0</td>\n",
       "      <td>₹1,099</td>\n",
       "      <td>₹736</td>\n",
       "      <td>33%</td>\n",
       "    </tr>\n",
       "    <tr>\n",
       "      <th>3</th>\n",
       "      <td>Men Printed Round Neck Polyester White, Black ...</td>\n",
       "      <td>sti</td>\n",
       "      <td>men</td>\n",
       "      <td>tshirts</td>\n",
       "      <td>3.9</td>\n",
       "      <td>72975.0</td>\n",
       "      <td>5613.0</td>\n",
       "      <td>₹999</td>\n",
       "      <td>₹191</td>\n",
       "      <td>80%</td>\n",
       "    </tr>\n",
       "    <tr>\n",
       "      <th>4</th>\n",
       "      <td>Pack of 4 Men Solid Round Neck Polyester Black...</td>\n",
       "      <td>VeBNoR</td>\n",
       "      <td>men</td>\n",
       "      <td>tshirts</td>\n",
       "      <td>3.9</td>\n",
       "      <td>4335.0</td>\n",
       "      <td>164.0</td>\n",
       "      <td>₹999</td>\n",
       "      <td>₹399</td>\n",
       "      <td>60%</td>\n",
       "    </tr>\n",
       "  </tbody>\n",
       "</table>\n",
       "</div>"
      ],
      "text/plain": [
       "                                                name       company ideal_for  \\\n",
       "0     Men Printed Round Neck Polyester Green T-Shirt       VeBNoR        men   \n",
       "1  Pack of 2 Men Printed Round Neck Polyester Pin...       KAJARU        men   \n",
       "2     Men Solid Polo Neck Cotton Blend Black T-Shirt  Allen Solly        men   \n",
       "3  Men Printed Round Neck Polyester White, Black ...          sti        men   \n",
       "4  Pack of 4 Men Solid Round Neck Polyester Black...       VeBNoR        men   \n",
       "\n",
       "  category  rating  ratings_count  reviews_count actual_price  \\\n",
       "0  tshirts     3.9        28072.0         1686.0         ₹999   \n",
       "1  tshirts     3.8        88910.0         4717.0       ₹1,899   \n",
       "2  tshirts     4.3        21430.0         1144.0       ₹1,099   \n",
       "3  tshirts     3.9        72975.0         5613.0         ₹999   \n",
       "4  tshirts     3.9         4335.0          164.0         ₹999   \n",
       "\n",
       "  discounted_price discount_percentage  \n",
       "0             ₹259                 74%  \n",
       "1             ₹359                 81%  \n",
       "2             ₹736                 33%  \n",
       "3             ₹191                 80%  \n",
       "4             ₹399                 60%  "
      ]
     },
     "execution_count": 31,
     "metadata": {},
     "output_type": "execute_result"
    }
   ],
   "source": [
    "df.head()"
   ]
  },
  {
   "cell_type": "code",
   "execution_count": 32,
   "metadata": {},
   "outputs": [
    {
     "data": {
      "text/plain": [
       "name                     0\n",
       "company                  0\n",
       "ideal_for                0\n",
       "category                 0\n",
       "rating                 213\n",
       "ratings_count          213\n",
       "reviews_count          213\n",
       "actual_price             0\n",
       "discounted_price         0\n",
       "discount_percentage      0\n",
       "dtype: int64"
      ]
     },
     "execution_count": 32,
     "metadata": {},
     "output_type": "execute_result"
    }
   ],
   "source": [
    "df.isnull().sum()"
   ]
  },
  {
   "cell_type": "code",
   "execution_count": 33,
   "metadata": {},
   "outputs": [],
   "source": [
    "df['actual_price'] = df['actual_price'].str.replace('₹', '')\n",
    "df['discounted_price'] = df['discounted_price'].str.replace('₹', '')\n",
    "df['discount_percentage'] = df['discount_percentage'].str.replace('%', '')"
   ]
  },
  {
   "cell_type": "code",
   "execution_count": 34,
   "metadata": {},
   "outputs": [
    {
     "data": {
      "text/html": [
       "<div>\n",
       "<style scoped>\n",
       "    .dataframe tbody tr th:only-of-type {\n",
       "        vertical-align: middle;\n",
       "    }\n",
       "\n",
       "    .dataframe tbody tr th {\n",
       "        vertical-align: top;\n",
       "    }\n",
       "\n",
       "    .dataframe thead th {\n",
       "        text-align: right;\n",
       "    }\n",
       "</style>\n",
       "<table border=\"1\" class=\"dataframe\">\n",
       "  <thead>\n",
       "    <tr style=\"text-align: right;\">\n",
       "      <th></th>\n",
       "      <th>name</th>\n",
       "      <th>company</th>\n",
       "      <th>ideal_for</th>\n",
       "      <th>category</th>\n",
       "      <th>rating</th>\n",
       "      <th>ratings_count</th>\n",
       "      <th>reviews_count</th>\n",
       "      <th>actual_price</th>\n",
       "      <th>discounted_price</th>\n",
       "      <th>discount_percentage</th>\n",
       "    </tr>\n",
       "  </thead>\n",
       "  <tbody>\n",
       "    <tr>\n",
       "      <th>0</th>\n",
       "      <td>Men Printed Round Neck Polyester Green T-Shirt</td>\n",
       "      <td>VeBNoR</td>\n",
       "      <td>men</td>\n",
       "      <td>tshirts</td>\n",
       "      <td>3.9</td>\n",
       "      <td>28072.0</td>\n",
       "      <td>1686.0</td>\n",
       "      <td>999</td>\n",
       "      <td>259</td>\n",
       "      <td>74</td>\n",
       "    </tr>\n",
       "    <tr>\n",
       "      <th>1</th>\n",
       "      <td>Pack of 2 Men Printed Round Neck Polyester Pin...</td>\n",
       "      <td>KAJARU</td>\n",
       "      <td>men</td>\n",
       "      <td>tshirts</td>\n",
       "      <td>3.8</td>\n",
       "      <td>88910.0</td>\n",
       "      <td>4717.0</td>\n",
       "      <td>1,899</td>\n",
       "      <td>359</td>\n",
       "      <td>81</td>\n",
       "    </tr>\n",
       "    <tr>\n",
       "      <th>2</th>\n",
       "      <td>Men Solid Polo Neck Cotton Blend Black T-Shirt</td>\n",
       "      <td>Allen Solly</td>\n",
       "      <td>men</td>\n",
       "      <td>tshirts</td>\n",
       "      <td>4.3</td>\n",
       "      <td>21430.0</td>\n",
       "      <td>1144.0</td>\n",
       "      <td>1,099</td>\n",
       "      <td>736</td>\n",
       "      <td>33</td>\n",
       "    </tr>\n",
       "    <tr>\n",
       "      <th>3</th>\n",
       "      <td>Men Printed Round Neck Polyester White, Black ...</td>\n",
       "      <td>sti</td>\n",
       "      <td>men</td>\n",
       "      <td>tshirts</td>\n",
       "      <td>3.9</td>\n",
       "      <td>72975.0</td>\n",
       "      <td>5613.0</td>\n",
       "      <td>999</td>\n",
       "      <td>191</td>\n",
       "      <td>80</td>\n",
       "    </tr>\n",
       "    <tr>\n",
       "      <th>4</th>\n",
       "      <td>Pack of 4 Men Solid Round Neck Polyester Black...</td>\n",
       "      <td>VeBNoR</td>\n",
       "      <td>men</td>\n",
       "      <td>tshirts</td>\n",
       "      <td>3.9</td>\n",
       "      <td>4335.0</td>\n",
       "      <td>164.0</td>\n",
       "      <td>999</td>\n",
       "      <td>399</td>\n",
       "      <td>60</td>\n",
       "    </tr>\n",
       "  </tbody>\n",
       "</table>\n",
       "</div>"
      ],
      "text/plain": [
       "                                                name       company ideal_for  \\\n",
       "0     Men Printed Round Neck Polyester Green T-Shirt       VeBNoR        men   \n",
       "1  Pack of 2 Men Printed Round Neck Polyester Pin...       KAJARU        men   \n",
       "2     Men Solid Polo Neck Cotton Blend Black T-Shirt  Allen Solly        men   \n",
       "3  Men Printed Round Neck Polyester White, Black ...          sti        men   \n",
       "4  Pack of 4 Men Solid Round Neck Polyester Black...       VeBNoR        men   \n",
       "\n",
       "  category  rating  ratings_count  reviews_count actual_price  \\\n",
       "0  tshirts     3.9        28072.0         1686.0          999   \n",
       "1  tshirts     3.8        88910.0         4717.0        1,899   \n",
       "2  tshirts     4.3        21430.0         1144.0        1,099   \n",
       "3  tshirts     3.9        72975.0         5613.0          999   \n",
       "4  tshirts     3.9         4335.0          164.0          999   \n",
       "\n",
       "  discounted_price discount_percentage  \n",
       "0              259                  74  \n",
       "1              359                  81  \n",
       "2              736                  33  \n",
       "3              191                  80  \n",
       "4              399                  60  "
      ]
     },
     "execution_count": 34,
     "metadata": {},
     "output_type": "execute_result"
    }
   ],
   "source": [
    "df.head()"
   ]
  },
  {
   "cell_type": "code",
   "execution_count": 35,
   "metadata": {},
   "outputs": [],
   "source": [
    "df['actual_price'] = df['actual_price'].str.replace(',', '')\n",
    "df['discounted_price'] = df['discounted_price'].str.replace(',', '')\n",
    "df['discount_percentage'] = df['discount_percentage'].str.replace(',', '')"
   ]
  },
  {
   "cell_type": "code",
   "execution_count": 36,
   "metadata": {},
   "outputs": [],
   "source": [
    "df['actual_price'] = pd.to_numeric(df['actual_price'], errors='coerce')\n",
    "df['discounted_price'] = pd.to_numeric(df['discounted_price'], errors='coerce')\n",
    "df['discount_percentage'] = pd.to_numeric(df['discount_percentage'], errors='coerce')"
   ]
  },
  {
   "cell_type": "code",
   "execution_count": 37,
   "metadata": {},
   "outputs": [
    {
     "data": {
      "text/plain": [
       "'VeBNoR\\xa0'"
      ]
     },
     "execution_count": 37,
     "metadata": {},
     "output_type": "execute_result"
    }
   ],
   "source": [
    "df['company'][0]"
   ]
  },
  {
   "cell_type": "code",
   "execution_count": 38,
   "metadata": {},
   "outputs": [
    {
     "name": "stdout",
     "output_type": "stream",
     "text": [
      "VeBNoR \n"
     ]
    }
   ],
   "source": [
    "print(df['company'][0])"
   ]
  },
  {
   "cell_type": "code",
   "execution_count": 39,
   "metadata": {},
   "outputs": [
    {
     "data": {
      "text/plain": [
       "'VeBNoR'"
      ]
     },
     "execution_count": 39,
     "metadata": {},
     "output_type": "execute_result"
    }
   ],
   "source": [
    "df['company'][0].replace('\\xa0','')"
   ]
  },
  {
   "cell_type": "code",
   "execution_count": 40,
   "metadata": {},
   "outputs": [],
   "source": [
    "df['company'] = df['company'].str.replace('\\xa0','')"
   ]
  },
  {
   "cell_type": "code",
   "execution_count": 41,
   "metadata": {},
   "outputs": [],
   "source": [
    "df['name'] = df['name'].str.replace('\\xa0\\xa0','')"
   ]
  },
  {
   "cell_type": "code",
   "execution_count": 42,
   "metadata": {},
   "outputs": [
    {
     "data": {
      "text/plain": [
       "name                    object\n",
       "company                 object\n",
       "ideal_for               object\n",
       "category                object\n",
       "rating                 float64\n",
       "ratings_count          float64\n",
       "reviews_count          float64\n",
       "actual_price             int64\n",
       "discounted_price         int64\n",
       "discount_percentage      int64\n",
       "dtype: object"
      ]
     },
     "execution_count": 42,
     "metadata": {},
     "output_type": "execute_result"
    }
   ],
   "source": [
    "df.dtypes"
   ]
  },
  {
   "cell_type": "markdown",
   "metadata": {},
   "source": [
    "# Save Dataset as a CSV file."
   ]
  },
  {
   "cell_type": "code",
   "execution_count": 43,
   "metadata": {},
   "outputs": [],
   "source": [
    "# df.to_csv('final_flipkart_clothing_data.csv', index=False)"
   ]
  },
  {
   "cell_type": "code",
   "execution_count": 44,
   "metadata": {},
   "outputs": [],
   "source": [
    "# df.isnull().sum()"
   ]
  },
  {
   "cell_type": "code",
   "execution_count": null,
   "metadata": {},
   "outputs": [],
   "source": []
  }
 ],
 "metadata": {
  "kernelspec": {
   "display_name": "MLenv",
   "language": "python",
   "name": "mlenv"
  },
  "language_info": {
   "codemirror_mode": {
    "name": "ipython",
    "version": 3
   },
   "file_extension": ".py",
   "mimetype": "text/x-python",
   "name": "python",
   "nbconvert_exporter": "python",
   "pygments_lexer": "ipython3",
   "version": "3.10.1"
  }
 },
 "nbformat": 4,
 "nbformat_minor": 2
}

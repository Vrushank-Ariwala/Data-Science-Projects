{
 "cells": [
  {
   "cell_type": "code",
   "execution_count": 1,
   "metadata": {},
   "outputs": [],
   "source": [
    "import pandas as pd\n",
    "from google.cloud import bigquery\n",
    "from google.oauth2 import service_account\n",
    "import pandas_gbq\n",
    "from pandas_gbq import schema\n"
   ]
  },
  {
   "cell_type": "code",
   "execution_count": 2,
   "metadata": {},
   "outputs": [],
   "source": [
    "df = pd.read_csv('final_flipkart_clothing_data.csv')"
   ]
  },
  {
   "cell_type": "code",
   "execution_count": 3,
   "metadata": {},
   "outputs": [
    {
     "data": {
      "text/plain": [
       "name                    object\n",
       "company                 object\n",
       "ideal_for               object\n",
       "category                object\n",
       "rating                 float64\n",
       "ratings_count          float64\n",
       "reviews_count          float64\n",
       "actual_price             int64\n",
       "discounted_price         int64\n",
       "discount_percentage      int64\n",
       "dtype: object"
      ]
     },
     "execution_count": 3,
     "metadata": {},
     "output_type": "execute_result"
    }
   ],
   "source": [
    "df.dtypes"
   ]
  },
  {
   "cell_type": "code",
   "execution_count": 4,
   "metadata": {},
   "outputs": [
    {
     "data": {
      "text/html": [
       "<div>\n",
       "<style scoped>\n",
       "    .dataframe tbody tr th:only-of-type {\n",
       "        vertical-align: middle;\n",
       "    }\n",
       "\n",
       "    .dataframe tbody tr th {\n",
       "        vertical-align: top;\n",
       "    }\n",
       "\n",
       "    .dataframe thead th {\n",
       "        text-align: right;\n",
       "    }\n",
       "</style>\n",
       "<table border=\"1\" class=\"dataframe\">\n",
       "  <thead>\n",
       "    <tr style=\"text-align: right;\">\n",
       "      <th></th>\n",
       "      <th>name</th>\n",
       "      <th>company</th>\n",
       "      <th>ideal_for</th>\n",
       "      <th>category</th>\n",
       "      <th>rating</th>\n",
       "      <th>ratings_count</th>\n",
       "      <th>reviews_count</th>\n",
       "      <th>actual_price</th>\n",
       "      <th>discounted_price</th>\n",
       "      <th>discount_percentage</th>\n",
       "    </tr>\n",
       "  </thead>\n",
       "  <tbody>\n",
       "    <tr>\n",
       "      <th>0</th>\n",
       "      <td>Men Printed Round Neck Polyester Green T-Shirt</td>\n",
       "      <td>VeBNoR</td>\n",
       "      <td>men</td>\n",
       "      <td>tshirts</td>\n",
       "      <td>3.9</td>\n",
       "      <td>28072.0</td>\n",
       "      <td>1686.0</td>\n",
       "      <td>999</td>\n",
       "      <td>259</td>\n",
       "      <td>74</td>\n",
       "    </tr>\n",
       "    <tr>\n",
       "      <th>1</th>\n",
       "      <td>Pack of 2 Men Printed Round Neck Polyester Pin...</td>\n",
       "      <td>KAJARU</td>\n",
       "      <td>men</td>\n",
       "      <td>tshirts</td>\n",
       "      <td>3.8</td>\n",
       "      <td>88910.0</td>\n",
       "      <td>4717.0</td>\n",
       "      <td>1899</td>\n",
       "      <td>359</td>\n",
       "      <td>81</td>\n",
       "    </tr>\n",
       "    <tr>\n",
       "      <th>2</th>\n",
       "      <td>Men Solid Polo Neck Cotton Blend Black T-Shirt</td>\n",
       "      <td>Allen Solly</td>\n",
       "      <td>men</td>\n",
       "      <td>tshirts</td>\n",
       "      <td>4.3</td>\n",
       "      <td>21430.0</td>\n",
       "      <td>1144.0</td>\n",
       "      <td>1099</td>\n",
       "      <td>736</td>\n",
       "      <td>33</td>\n",
       "    </tr>\n",
       "    <tr>\n",
       "      <th>3</th>\n",
       "      <td>Men Printed Round Neck Polyester White, Black ...</td>\n",
       "      <td>sti</td>\n",
       "      <td>men</td>\n",
       "      <td>tshirts</td>\n",
       "      <td>3.9</td>\n",
       "      <td>72975.0</td>\n",
       "      <td>5613.0</td>\n",
       "      <td>999</td>\n",
       "      <td>191</td>\n",
       "      <td>80</td>\n",
       "    </tr>\n",
       "    <tr>\n",
       "      <th>4</th>\n",
       "      <td>Pack of 4 Men Solid Round Neck Polyester Black...</td>\n",
       "      <td>VeBNoR</td>\n",
       "      <td>men</td>\n",
       "      <td>tshirts</td>\n",
       "      <td>3.9</td>\n",
       "      <td>4335.0</td>\n",
       "      <td>164.0</td>\n",
       "      <td>999</td>\n",
       "      <td>399</td>\n",
       "      <td>60</td>\n",
       "    </tr>\n",
       "  </tbody>\n",
       "</table>\n",
       "</div>"
      ],
      "text/plain": [
       "                                                name      company ideal_for  \\\n",
       "0     Men Printed Round Neck Polyester Green T-Shirt       VeBNoR       men   \n",
       "1  Pack of 2 Men Printed Round Neck Polyester Pin...       KAJARU       men   \n",
       "2     Men Solid Polo Neck Cotton Blend Black T-Shirt  Allen Solly       men   \n",
       "3  Men Printed Round Neck Polyester White, Black ...          sti       men   \n",
       "4  Pack of 4 Men Solid Round Neck Polyester Black...       VeBNoR       men   \n",
       "\n",
       "  category  rating  ratings_count  reviews_count  actual_price  \\\n",
       "0  tshirts     3.9        28072.0         1686.0           999   \n",
       "1  tshirts     3.8        88910.0         4717.0          1899   \n",
       "2  tshirts     4.3        21430.0         1144.0          1099   \n",
       "3  tshirts     3.9        72975.0         5613.0           999   \n",
       "4  tshirts     3.9         4335.0          164.0           999   \n",
       "\n",
       "   discounted_price  discount_percentage  \n",
       "0               259                   74  \n",
       "1               359                   81  \n",
       "2               736                   33  \n",
       "3               191                   80  \n",
       "4               399                   60  "
      ]
     },
     "execution_count": 4,
     "metadata": {},
     "output_type": "execute_result"
    }
   ],
   "source": [
    "df.head()"
   ]
  },
  {
   "cell_type": "code",
   "execution_count": 5,
   "metadata": {},
   "outputs": [],
   "source": [
    "def bq_check_and_load_data():\n",
    "  \n",
    "    schema = [\n",
    "        {'name': 'name', 'type': 'STRING'},\n",
    "        {'name': 'company', 'type': 'STRING'},\n",
    "        {'name': 'ideal_for', 'type': 'STRING'},\n",
    "        {'name': 'category', 'type': 'STRING'},\n",
    "        {'name': 'rating', 'type': 'FLOAT64'},\n",
    "        {'name': 'ratings_count', 'type': 'FLOAT64'},\n",
    "        {'name': 'reviews_count', 'type': 'FLOAT64'},\n",
    "        {'name': 'actual_price', 'type': 'INT64'},\n",
    "        {'name': 'discounted_price', 'type': 'INT64'},\n",
    "        {'name': 'discount_percentage', 'type': 'INT64'}\n",
    "    ]\n",
    "\n",
    "    # Define the project id and table id\n",
    "    project_id='gen-ai-432009'\n",
    "    table_id = 'gen-ai-432009.flipkart.clothing_data'\n",
    "\n",
    "    # Create a BigQuery client\n",
    "    creds = service_account.Credentials.from_service_account_file(\n",
    "        'credentials.json')\n",
    "    client = bigquery.Client(credentials=creds, project=project_id, location='asia-south1')\n",
    "\n",
    "    # Check if the table is empty\n",
    "    query = f\"\"\"\n",
    "    SELECT COUNT(*) FROM `{table_id}`\n",
    "    \"\"\"\n",
    "    query_job = client.query(query)\n",
    "    results = query_job.result()  # Wait for the query to complete\n",
    "    row = next(results)  # Get the first row (should be the count)\n",
    "    if row[0] == 0:\n",
    "        print(\"Table is empty, proceeding to load data.\")\n",
    "    else:\n",
    "        print(f\"Table is not empty, it will be replaced before loading new data.\")\n",
    "\n",
    "    # Load data to BigQuery\n",
    "    pandas_gbq.context.credentials = creds\n",
    "\n",
    "    # pandas_gbq.to_gbq(pandas_df, table_id, project_id=project_id, table_schema=schema)\n",
    "    df.to_gbq(destination_table = table_id, if_exists = 'replace', project_id = project_id, table_schema = schema)\n"
   ]
  },
  {
   "cell_type": "code",
   "execution_count": 6,
   "metadata": {},
   "outputs": [
    {
     "name": "stdout",
     "output_type": "stream",
     "text": [
      "Table is not empty, it will be replaced before loading new data.\n"
     ]
    },
    {
     "name": "stderr",
     "output_type": "stream",
     "text": [
      "C:\\Users\\vrushank\\AppData\\Local\\Temp\\ipykernel_23692\\3293807132.py:41: FutureWarning: to_gbq is deprecated and will be removed in a future version. Please use pandas_gbq.to_gbq instead: https://pandas-gbq.readthedocs.io/en/latest/api.html#pandas_gbq.to_gbq\n",
      "  df.to_gbq(destination_table = table_id, if_exists = 'replace', project_id = project_id, table_schema = schema)\n",
      "100%|██████████| 1/1 [00:00<?, ?it/s]\n"
     ]
    }
   ],
   "source": [
    "bq_check_and_load_data()"
   ]
  },
  {
   "cell_type": "code",
   "execution_count": 7,
   "metadata": {},
   "outputs": [
    {
     "name": "stdout",
     "output_type": "stream",
     "text": [
      "Row((2001,), {'f0_': 0})\n"
     ]
    }
   ],
   "source": [
    "project_id='gen-ai-432009'\n",
    "table_id = 'gen-ai-432009.flipkart.clothing_data'\n",
    "\n",
    "creds = service_account.Credentials.from_service_account_file(\n",
    "    'credentials.json')\n",
    "client = bigquery.Client(credentials=creds, project=project_id, location='asia-south1')\n",
    "\n",
    "query = f\"\"\"\n",
    "SELECT COUNT(*) FROM `{table_id}`\n",
    "\"\"\"\n",
    "query_job = client.query(query)\n",
    "results = query_job.result()\n",
    "\n",
    "# Print the results\n",
    "for row in results:\n",
    "    print(row)"
   ]
  },
  {
   "cell_type": "code",
   "execution_count": 8,
   "metadata": {},
   "outputs": [
    {
     "name": "stdout",
     "output_type": "stream",
     "text": [
      "Row(('Printed Women Black Night Shorts', 'MAX', 'women', 'shorts', 4.6, 55.0, 3.0, 349, 349, 0), {'name': 0, 'company': 1, 'ideal_for': 2, 'category': 3, 'rating': 4, 'ratings_count': 5, 'reviews_count': 6, 'actual_price': 7, 'discounted_price': 8, 'discount_percentage': 9})\n",
      "Row(('Women Skinny Fit Black Cotton Blend Trousers', 'De Moza', 'women', 'trousers', 4.7, 6.0, 1.0, 999, 699, 30), {'name': 0, 'company': 1, 'ideal_for': 2, 'category': 3, 'rating': 4, 'ratings_count': 5, 'reviews_count': 6, 'actual_price': 7, 'discounted_price': 8, 'discount_percentage': 9})\n",
      "Row(('Women Skinny Fit Black Cotton Blend Trousers', 'De Moza', 'women', 'trousers', 4.7, 6.0, 1.0, 999, 699, 30), {'name': 0, 'company': 1, 'ideal_for': 2, 'category': 3, 'rating': 4, 'ratings_count': 5, 'reviews_count': 6, 'actual_price': 7, 'discounted_price': 8, 'discount_percentage': 9})\n",
      "Row(('Women Skinny Fit Black Cotton Blend Trousers', 'De Moza', 'women', 'trousers', 4.7, 6.0, 1.0, 999, 699, 30), {'name': 0, 'company': 1, 'ideal_for': 2, 'category': 3, 'rating': 4, 'ratings_count': 5, 'reviews_count': 6, 'actual_price': 7, 'discounted_price': 8, 'discount_percentage': 9})\n",
      "Row(('Women Slim Fit Dark Blue Cotton Blend Trousers', 'De Moza', 'women', 'trousers', 5.0, 3.0, 0.0, 999, 699, 30), {'name': 0, 'company': 1, 'ideal_for': 2, 'category': 3, 'rating': 4, 'ratings_count': 5, 'reviews_count': 6, 'actual_price': 7, 'discounted_price': 8, 'discount_percentage': 9})\n"
     ]
    }
   ],
   "source": [
    "query = f\"\"\"\n",
    "SELECT * FROM `{table_id}`\n",
    "LIMIT 5\n",
    "\"\"\"\n",
    "query_job = client.query(query)\n",
    "results = query_job.result()\n",
    "\n",
    "# Print the results\n",
    "for row in results:\n",
    "    print(row)"
   ]
  },
  {
   "cell_type": "code",
   "execution_count": null,
   "metadata": {},
   "outputs": [],
   "source": []
  }
 ],
 "metadata": {
  "kernelspec": {
   "display_name": "MLenv",
   "language": "python",
   "name": "python3"
  },
  "language_info": {
   "codemirror_mode": {
    "name": "ipython",
    "version": 3
   },
   "file_extension": ".py",
   "mimetype": "text/x-python",
   "name": "python",
   "nbconvert_exporter": "python",
   "pygments_lexer": "ipython3",
   "version": "3.10.1"
  }
 },
 "nbformat": 4,
 "nbformat_minor": 2
}

{
 "cells": [
  {
   "cell_type": "code",
   "execution_count": 28,
   "metadata": {},
   "outputs": [],
   "source": [
    "import requests\n",
    "from bs4 import BeautifulSoup\n",
    "import pandas as pd\n",
    "import random"
   ]
  },
  {
   "cell_type": "code",
   "execution_count": 27,
   "metadata": {},
   "outputs": [
    {
     "name": "stdout",
     "output_type": "stream",
     "text": [
      "COMBRAIDED \n",
      "Men Self Design Black Track Pants\n",
      "3.8\n",
      "2,051\n",
      "53\n",
      "₹1,499\n",
      "₹369\n",
      "75%\n"
     ]
    }
   ],
   "source": [
    "page_no = 1\n",
    "category = 'trackpants'\n",
    "person = 'men'\n",
    "url = f\"https://www.flipkart.com/search?q={person}+{category}&otracker=search&otracker1=search&marketplace=FLIPKART&as-show=on&as=off&page={page_no}\"\n",
    "headers = {\"User-Agent\": \"user-agent: Mozilla/5.0 (Macintosh; Intel Mac OS X 10_15_7) AppleWebKit/537.36 (KHTML, like Gecko) Chrome/101.0.4951.64 Safari/537.36 Edg/101.0.1210.47\", \"Accept-Encoding\":\"gzip, deflate\", \"Accept\":\"text/html,application/xhtml+xml,application/xml;q=0.9,*/*;q=0.8\", \"DNT\":\"1\",\"Connection\":\"close\", \"Upgrade-Insecure-Requests\":\"1\", \"accept-language\": \"en-US,en;q=0.9,it;q=0.8,es;q=0.7\"}\n",
    "\n",
    "page = requests.get(url=url, headers=headers)\n",
    "\n",
    "soup = BeautifulSoup(page.content, \"html.parser\")\n",
    "\n",
    "groups = soup.find_all(\"div\", attrs={'class':'hCKiGj'})\n",
    "links=[]\n",
    "for group in groups:\n",
    "    link = group.find(\"a\")\n",
    "    links.append(link)\n",
    "\n",
    "product_link = links[0].get('href')\n",
    "product = \"https://www.flipkart.com/\" + product_link\n",
    "headers = {\"User-Agent\": \"user-agent: Mozilla/5.0 (Macintosh; Intel Mac OS X 10_15_7) AppleWebKit/537.36 (KHTML, like Gecko) Chrome/101.0.4951.64 Safari/537.36 Edg/101.0.1210.47\", \"Accept-Encoding\":\"gzip, deflate\", \"Accept\":\"text/html,application/xhtml+xml,application/xml;q=0.9,*/*;q=0.8\", \"DNT\":\"1\",\"Connection\":\"close\", \"Upgrade-Insecure-Requests\":\"1\", \"accept-language\": \"en-US,en;q=0.9,it;q=0.8,es;q=0.7\"}\n",
    "page = requests.get(url=product, headers=headers)\n",
    "soup = BeautifulSoup(page.content, \"html.parser\")\n",
    "\n",
    "company = soup.find(\"span\", attrs={'class':'mEh187'}).text\n",
    "name = soup.find(\"span\", attrs={'class':'VU-ZEz'}).text\n",
    "try:\n",
    "    rating = soup.find(\"div\", attrs={'class':'XQDdHH _1Quie7'}).text\n",
    "except (IndexError, AttributeError):\n",
    "    rating = 'Unknown'\n",
    "try:\n",
    "    ratings_count = soup.find(\"span\", attrs={'class':'Wphh3N'}).text.split()[0]\n",
    "except (IndexError, AttributeError):\n",
    "    ratings_count = 'Unknown'\n",
    "try:\n",
    "    reviews_count = soup.find(\"span\", attrs={'class':'Wphh3N'}).text.split()[3]\n",
    "except (IndexError, AttributeError):\n",
    "    reviews_count = 'Unknown'\n",
    "discounted_price = soup.find(\"div\", attrs={'class':'Nx9bqj CxhGGd'}).text\n",
    "actual_price = soup.find(\"div\", attrs={'class':'yRaY8j A6+E6v'}).text\n",
    "discount = soup.find(\"div\", attrs={'class':'UkUFwK WW8yVX dB67CR'}).text.split()[0]\n",
    "\n",
    "print(company)\n",
    "print(name)\n",
    "print(rating)\n",
    "print(ratings_count)\n",
    "print(reviews_count)\n",
    "print(actual_price)\n",
    "print(discounted_price)\n",
    "print(discount)"
   ]
  },
  {
   "cell_type": "code",
   "execution_count": 29,
   "metadata": {},
   "outputs": [],
   "source": [
    "def get_links(person, category, page_no):\n",
    "    url = f\"https://www.flipkart.com/search?q={person}+{category}&otracker=search&otracker1=search&marketplace=FLIPKART&as-show=on&as=off&page={page_no}\"\n",
    "    headers = {\"User-Agent\": \"user-agent: Mozilla/5.0 (Macintosh; Intel Mac OS X 10_15_7) AppleWebKit/537.36 (KHTML, like Gecko) Chrome/101.0.4951.64 Safari/537.36 Edg/101.0.1210.47\", \"Accept-Encoding\":\"gzip, deflate\", \"Accept\":\"text/html,application/xhtml+xml,application/xml;q=0.9,*/*;q=0.8\", \"DNT\":\"1\",\"Connection\":\"close\", \"Upgrade-Insecure-Requests\":\"1\", \"accept-language\": \"en-US,en;q=0.9,it;q=0.8,es;q=0.7\"}\n",
    "\n",
    "    page = requests.get(url=url, headers=headers)\n",
    "\n",
    "    soup = BeautifulSoup(page.content, \"html.parser\")\n",
    "    groups = soup.find_all(\"div\", attrs={'class':'hCKiGj'})\n",
    "    links=[]\n",
    "    for group in groups:\n",
    "        link = group.find(\"a\")\n",
    "        links.append(link)\n",
    "    \n",
    "    return links\n"
   ]
  },
  {
   "cell_type": "code",
   "execution_count": 37,
   "metadata": {},
   "outputs": [],
   "source": [
    "def get_product_details(link, person, category):\n",
    "\n",
    "    web_url = link\n",
    "\n",
    "    headers = {\"User-Agent\": \"user-agent: Mozilla/5.0 (Macintosh; Intel Mac OS X 10_15_7) AppleWebKit/537.36 (KHTML, like Gecko) Chrome/101.0.4951.64 Safari/537.36 Edg/101.0.1210.47\", \"Accept-Encoding\":\"gzip, deflate\", \"Accept\":\"text/html,application/xhtml+xml,application/xml;q=0.9,*/*;q=0.8\", \"DNT\":\"1\",\"Connection\":\"close\", \"Upgrade-Insecure-Requests\":\"1\", \"accept-language\": \"en-US,en;q=0.9,it;q=0.8,es;q=0.7\"}\n",
    "\n",
    "    page = requests.get(url=web_url, headers=headers)\n",
    "\n",
    "    soup = BeautifulSoup(page.content, \"html.parser\")\n",
    "\n",
    "    try:\n",
    "        company = soup.find(\"span\", attrs={'class':'mEh187'}).text\n",
    "    except (IndexError, AttributeError):\n",
    "        company = 'Unknown'\n",
    "    \n",
    "    try:\n",
    "        name = soup.find(\"span\", attrs={'class':'VU-ZEz'}).text\n",
    "    except (IndexError, AttributeError):\n",
    "        name = 'Unknown'\n",
    "\n",
    "    try:\n",
    "        rating = soup.find(\"div\", attrs={'class':'XQDdHH _1Quie7'}).text\n",
    "    except (IndexError, AttributeError):\n",
    "        rating = 'Unknown'\n",
    "\n",
    "    try:\n",
    "        ratings_count = soup.find(\"span\", attrs={'class':'Wphh3N'}).text.split()[0]\n",
    "    except (IndexError, AttributeError):\n",
    "        ratings_count = 'Unknown'\n",
    "\n",
    "    try:\n",
    "        reviews_count = soup.find(\"span\", attrs={'class':'Wphh3N'}).text.split()[3]\n",
    "    except (IndexError, AttributeError):\n",
    "        reviews_count = 'Unknown'\n",
    "\n",
    "    try:\n",
    "        discounted_price = soup.find(\"div\", attrs={'class':'Nx9bqj CxhGGd'}).text\n",
    "    except (IndexError, AttributeError):\n",
    "        discounted_price = 'Unknown'\n",
    "    \n",
    "    try:\n",
    "        actual_price = soup.find(\"div\", attrs={'class':'yRaY8j A6+E6v'}).text\n",
    "    except (IndexError, AttributeError):\n",
    "        actual_price = 'Unknown'\n",
    "    \n",
    "    try:\n",
    "        discount_percentage = soup.find(\"div\", attrs={'class':'UkUFwK WW8yVX dB67CR'}).text.split()[0]\n",
    "    except (IndexError, AttributeError):\n",
    "        discount_percentage = 'Unknown' \n",
    "    \n",
    "    product_details = []\n",
    "    product_details.extend([name, company, person, category, rating, ratings_count, reviews_count, actual_price, \n",
    "                 discounted_price, discount_percentage])\n",
    "    \n",
    "    return product_details"
   ]
  },
  {
   "cell_type": "code",
   "execution_count": 31,
   "metadata": {},
   "outputs": [],
   "source": [
    "def expand_df(dataframe, no_of_pages, person, category):\n",
    "    page_no = 1\n",
    "\n",
    "    while page_no<=no_of_pages:\n",
    "        links = get_links(person, category, page_no)\n",
    "        for link in links:\n",
    "            product_link = link.get('href')\n",
    "            product = \"https://www.flipkart.com/\" + product_link\n",
    "            product_specs = get_product_details(product, person, category)\n",
    "            dataframe.loc[len(dataframe)]=product_specs\n",
    "            \n",
    "        page_no+=1\n",
    "    \n",
    "    return dataframe"
   ]
  },
  {
   "cell_type": "code",
   "execution_count": 32,
   "metadata": {},
   "outputs": [],
   "source": [
    "df = pd.DataFrame(columns = ['name', 'company', 'ideal_for', 'category', 'rating', 'ratings_count', 'reviews_count', 'actual_price', \n",
    "                 'discounted_price', 'discount_percentage'])"
   ]
  },
  {
   "cell_type": "code",
   "execution_count": null,
   "metadata": {},
   "outputs": [],
   "source": []
  },
  {
   "cell_type": "code",
   "execution_count": 33,
   "metadata": {},
   "outputs": [
    {
     "data": {
      "text/plain": [
       "(80, 10)"
      ]
     },
     "execution_count": 33,
     "metadata": {},
     "output_type": "execute_result"
    }
   ],
   "source": [
    "data = expand_df(df, random.randint(2,6), 'men', 'tshirts')\n",
    "data.shape"
   ]
  },
  {
   "cell_type": "code",
   "execution_count": 34,
   "metadata": {},
   "outputs": [
    {
     "data": {
      "text/plain": [
       "(160, 10)"
      ]
     },
     "execution_count": 34,
     "metadata": {},
     "output_type": "execute_result"
    }
   ],
   "source": [
    "data = expand_df(df, random.randint(2,6), 'men', 'shirts')\n",
    "data.shape"
   ]
  },
  {
   "cell_type": "code",
   "execution_count": 35,
   "metadata": {},
   "outputs": [
    {
     "ename": "AttributeError",
     "evalue": "'NoneType' object has no attribute 'text'",
     "output_type": "error",
     "traceback": [
      "\u001b[1;31m---------------------------------------------------------------------------\u001b[0m",
      "\u001b[1;31mAttributeError\u001b[0m                            Traceback (most recent call last)",
      "Cell \u001b[1;32mIn[35], line 1\u001b[0m\n\u001b[1;32m----> 1\u001b[0m data \u001b[38;5;241m=\u001b[39m \u001b[43mexpand_df\u001b[49m\u001b[43m(\u001b[49m\u001b[43mdf\u001b[49m\u001b[43m,\u001b[49m\u001b[43m \u001b[49m\u001b[43mrandom\u001b[49m\u001b[38;5;241;43m.\u001b[39;49m\u001b[43mrandint\u001b[49m\u001b[43m(\u001b[49m\u001b[38;5;241;43m2\u001b[39;49m\u001b[43m,\u001b[49m\u001b[38;5;241;43m6\u001b[39;49m\u001b[43m)\u001b[49m\u001b[43m,\u001b[49m\u001b[43m \u001b[49m\u001b[38;5;124;43m'\u001b[39;49m\u001b[38;5;124;43mmen\u001b[39;49m\u001b[38;5;124;43m'\u001b[39;49m\u001b[43m,\u001b[49m\u001b[43m \u001b[49m\u001b[38;5;124;43m'\u001b[39;49m\u001b[38;5;124;43mshoes\u001b[39;49m\u001b[38;5;124;43m'\u001b[39;49m\u001b[43m)\u001b[49m\n\u001b[0;32m      2\u001b[0m data\u001b[38;5;241m.\u001b[39mshape\n",
      "Cell \u001b[1;32mIn[31], line 9\u001b[0m, in \u001b[0;36mexpand_df\u001b[1;34m(dataframe, no_of_pages, person, category)\u001b[0m\n\u001b[0;32m      7\u001b[0m     product_link \u001b[38;5;241m=\u001b[39m link\u001b[38;5;241m.\u001b[39mget(\u001b[38;5;124m'\u001b[39m\u001b[38;5;124mhref\u001b[39m\u001b[38;5;124m'\u001b[39m)\n\u001b[0;32m      8\u001b[0m     product \u001b[38;5;241m=\u001b[39m \u001b[38;5;124m\"\u001b[39m\u001b[38;5;124mhttps://www.flipkart.com/\u001b[39m\u001b[38;5;124m\"\u001b[39m \u001b[38;5;241m+\u001b[39m product_link\n\u001b[1;32m----> 9\u001b[0m     product_specs \u001b[38;5;241m=\u001b[39m \u001b[43mget_product_details\u001b[49m\u001b[43m(\u001b[49m\u001b[43mproduct\u001b[49m\u001b[43m,\u001b[49m\u001b[43m \u001b[49m\u001b[43mperson\u001b[49m\u001b[43m,\u001b[49m\u001b[43m \u001b[49m\u001b[43mcategory\u001b[49m\u001b[43m)\u001b[49m\n\u001b[0;32m     10\u001b[0m     dataframe\u001b[38;5;241m.\u001b[39mloc[\u001b[38;5;28mlen\u001b[39m(dataframe)]\u001b[38;5;241m=\u001b[39mproduct_specs\n\u001b[0;32m     12\u001b[0m page_no\u001b[38;5;241m+\u001b[39m\u001b[38;5;241m=\u001b[39m\u001b[38;5;241m1\u001b[39m\n",
      "Cell \u001b[1;32mIn[30], line 27\u001b[0m, in \u001b[0;36mget_product_details\u001b[1;34m(link, person, category)\u001b[0m\n\u001b[0;32m     25\u001b[0m discounted_price \u001b[38;5;241m=\u001b[39m soup\u001b[38;5;241m.\u001b[39mfind(\u001b[38;5;124m\"\u001b[39m\u001b[38;5;124mdiv\u001b[39m\u001b[38;5;124m\"\u001b[39m, attrs\u001b[38;5;241m=\u001b[39m{\u001b[38;5;124m'\u001b[39m\u001b[38;5;124mclass\u001b[39m\u001b[38;5;124m'\u001b[39m:\u001b[38;5;124m'\u001b[39m\u001b[38;5;124mNx9bqj CxhGGd\u001b[39m\u001b[38;5;124m'\u001b[39m})\u001b[38;5;241m.\u001b[39mtext\n\u001b[0;32m     26\u001b[0m actual_price \u001b[38;5;241m=\u001b[39m soup\u001b[38;5;241m.\u001b[39mfind(\u001b[38;5;124m\"\u001b[39m\u001b[38;5;124mdiv\u001b[39m\u001b[38;5;124m\"\u001b[39m, attrs\u001b[38;5;241m=\u001b[39m{\u001b[38;5;124m'\u001b[39m\u001b[38;5;124mclass\u001b[39m\u001b[38;5;124m'\u001b[39m:\u001b[38;5;124m'\u001b[39m\u001b[38;5;124myRaY8j A6+E6v\u001b[39m\u001b[38;5;124m'\u001b[39m})\u001b[38;5;241m.\u001b[39mtext\n\u001b[1;32m---> 27\u001b[0m discount_percentage \u001b[38;5;241m=\u001b[39m \u001b[43msoup\u001b[49m\u001b[38;5;241;43m.\u001b[39;49m\u001b[43mfind\u001b[49m\u001b[43m(\u001b[49m\u001b[38;5;124;43m\"\u001b[39;49m\u001b[38;5;124;43mdiv\u001b[39;49m\u001b[38;5;124;43m\"\u001b[39;49m\u001b[43m,\u001b[49m\u001b[43m \u001b[49m\u001b[43mattrs\u001b[49m\u001b[38;5;241;43m=\u001b[39;49m\u001b[43m{\u001b[49m\u001b[38;5;124;43m'\u001b[39;49m\u001b[38;5;124;43mclass\u001b[39;49m\u001b[38;5;124;43m'\u001b[39;49m\u001b[43m:\u001b[49m\u001b[38;5;124;43m'\u001b[39;49m\u001b[38;5;124;43mUkUFwK WW8yVX dB67CR\u001b[39;49m\u001b[38;5;124;43m'\u001b[39;49m\u001b[43m}\u001b[49m\u001b[43m)\u001b[49m\u001b[38;5;241;43m.\u001b[39;49m\u001b[43mtext\u001b[49m\u001b[38;5;241m.\u001b[39msplit()[\u001b[38;5;241m0\u001b[39m]\n\u001b[0;32m     29\u001b[0m product_details \u001b[38;5;241m=\u001b[39m []\n\u001b[0;32m     30\u001b[0m product_details\u001b[38;5;241m.\u001b[39mextend([name, company, person, category, rating, ratings_count, reviews_count, actual_price, \n\u001b[0;32m     31\u001b[0m              discounted_price, discount_percentage])\n",
      "\u001b[1;31mAttributeError\u001b[0m: 'NoneType' object has no attribute 'text'"
     ]
    }
   ],
   "source": [
    "data = expand_df(df, random.randint(2,6), 'men', 'shoes')\n",
    "data.shape"
   ]
  },
  {
   "cell_type": "code",
   "execution_count": 38,
   "metadata": {},
   "outputs": [
    {
     "data": {
      "text/plain": [
       "(388, 10)"
      ]
     },
     "execution_count": 38,
     "metadata": {},
     "output_type": "execute_result"
    }
   ],
   "source": [
    "data = expand_df(df, random.randint(2,5), 'men', 'jeans')\n",
    "data.shape"
   ]
  },
  {
   "cell_type": "code",
   "execution_count": 39,
   "metadata": {},
   "outputs": [
    {
     "data": {
      "text/plain": [
       "(548, 10)"
      ]
     },
     "execution_count": 39,
     "metadata": {},
     "output_type": "execute_result"
    }
   ],
   "source": [
    "data = expand_df(df, random.randint(2,5), 'men', 'trousers')\n",
    "data.shape"
   ]
  },
  {
   "cell_type": "code",
   "execution_count": 40,
   "metadata": {},
   "outputs": [
    {
     "data": {
      "text/plain": [
       "(748, 10)"
      ]
     },
     "execution_count": 40,
     "metadata": {},
     "output_type": "execute_result"
    }
   ],
   "source": [
    "data = expand_df(df, random.randint(2,5), 'men', 'shorts')\n",
    "data.shape"
   ]
  },
  {
   "cell_type": "code",
   "execution_count": 41,
   "metadata": {},
   "outputs": [
    {
     "data": {
      "text/plain": [
       "(828, 10)"
      ]
     },
     "execution_count": 41,
     "metadata": {},
     "output_type": "execute_result"
    }
   ],
   "source": [
    "data = expand_df(df, random.randint(2,5), 'men', 'trackpants')\n",
    "data.shape"
   ]
  },
  {
   "cell_type": "code",
   "execution_count": 42,
   "metadata": {},
   "outputs": [
    {
     "data": {
      "text/plain": [
       "(988, 10)"
      ]
     },
     "execution_count": 42,
     "metadata": {},
     "output_type": "execute_result"
    }
   ],
   "source": [
    "data = expand_df(df, random.randint(2,5), 'men', 'sweatshirts')\n",
    "data.shape"
   ]
  },
  {
   "cell_type": "code",
   "execution_count": 43,
   "metadata": {},
   "outputs": [
    {
     "data": {
      "text/plain": [
       "(1068, 10)"
      ]
     },
     "execution_count": 43,
     "metadata": {},
     "output_type": "execute_result"
    }
   ],
   "source": [
    "data = expand_df(df, random.randint(2,5), 'women', 'tshirts')\n",
    "data.shape"
   ]
  },
  {
   "cell_type": "code",
   "execution_count": 44,
   "metadata": {},
   "outputs": [
    {
     "data": {
      "text/plain": [
       "(1148, 10)"
      ]
     },
     "execution_count": 44,
     "metadata": {},
     "output_type": "execute_result"
    }
   ],
   "source": [
    "data = expand_df(df, random.randint(2,5), 'women', 'shirts')\n",
    "data.shape"
   ]
  },
  {
   "cell_type": "code",
   "execution_count": 45,
   "metadata": {},
   "outputs": [
    {
     "data": {
      "text/plain": [
       "(1308, 10)"
      ]
     },
     "execution_count": 45,
     "metadata": {},
     "output_type": "execute_result"
    }
   ],
   "source": [
    "data = expand_df(df, random.randint(2,5), 'women', 'shoes')\n",
    "data.shape"
   ]
  },
  {
   "cell_type": "code",
   "execution_count": 46,
   "metadata": {},
   "outputs": [
    {
     "data": {
      "text/plain": [
       "(1428, 10)"
      ]
     },
     "execution_count": 46,
     "metadata": {},
     "output_type": "execute_result"
    }
   ],
   "source": [
    "data = expand_df(df, random.randint(2,5), 'women', 'jeans')\n",
    "data.shape"
   ]
  },
  {
   "cell_type": "code",
   "execution_count": 47,
   "metadata": {},
   "outputs": [
    {
     "data": {
      "text/plain": [
       "(1628, 10)"
      ]
     },
     "execution_count": 47,
     "metadata": {},
     "output_type": "execute_result"
    }
   ],
   "source": [
    "data = expand_df(df, random.randint(2,5), 'women', 'trousers')\n",
    "data.shape"
   ]
  },
  {
   "cell_type": "code",
   "execution_count": 48,
   "metadata": {},
   "outputs": [
    {
     "data": {
      "text/plain": [
       "(1828, 10)"
      ]
     },
     "execution_count": 48,
     "metadata": {},
     "output_type": "execute_result"
    }
   ],
   "source": [
    "data = expand_df(df, random.randint(2,5), 'women', 'shorts')\n",
    "data.shape"
   ]
  },
  {
   "cell_type": "code",
   "execution_count": 49,
   "metadata": {},
   "outputs": [
    {
     "data": {
      "text/plain": [
       "(1948, 10)"
      ]
     },
     "execution_count": 49,
     "metadata": {},
     "output_type": "execute_result"
    }
   ],
   "source": [
    "data = expand_df(df, random.randint(2,5), 'women', 'trackpants')\n",
    "data.shape"
   ]
  },
  {
   "cell_type": "code",
   "execution_count": 50,
   "metadata": {},
   "outputs": [
    {
     "data": {
      "text/plain": [
       "(2028, 10)"
      ]
     },
     "execution_count": 50,
     "metadata": {},
     "output_type": "execute_result"
    }
   ],
   "source": [
    "data = expand_df(df, random.randint(2,5), 'women', 'sweatshirts')\n",
    "data.shape"
   ]
  },
  {
   "cell_type": "code",
   "execution_count": 54,
   "metadata": {},
   "outputs": [],
   "source": [
    "df.to_csv('flipkart_clothing_data.csv', index=False)"
   ]
  }
 ],
 "metadata": {
  "kernelspec": {
   "display_name": "MLenv",
   "language": "python",
   "name": "python3"
  },
  "language_info": {
   "codemirror_mode": {
    "name": "ipython",
    "version": 3
   },
   "file_extension": ".py",
   "mimetype": "text/x-python",
   "name": "python",
   "nbconvert_exporter": "python",
   "pygments_lexer": "ipython3",
   "version": "3.10.1"
  }
 },
 "nbformat": 4,
 "nbformat_minor": 2
}
